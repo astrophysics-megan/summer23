{
 "cells": [
  {
   "cell_type": "code",
   "execution_count": 10,
   "metadata": {},
   "outputs": [],
   "source": [
    "from astropy.coordinates import SkyCoord\n",
    "from astropy import units\n",
    "import numpy as np\n",
    "import pandas as pd\n",
    "\n",
    "profile_coords = np.genfromtxt(r\"../data/ACCEPT2_K0_and_z.csv\",delimiter=',',skip_header=1,usecols=[1,18,19],dtype=str) #pulls only sep and k0\n",
    "\n",
    "profile_names = profile_coords.T[0][1:]\n",
    "profile_RAs = dict(zip(profile_names,profile_coords.T[1][1:]))\n",
    "profile_DECs = dict(zip(profile_names,profile_coords.T[2][1:]))\n",
    "\n",
    "full_profile_names = np.genfromtxt(r\"../data/deprojected_profiles_kpc_H070_Om0.3.csv\",delimiter=',',skip_header=3,usecols=0,dtype=str) #pulls only sep and k0\n",
    "full_profile_names = np.char.strip(full_profile_names)"
   ]
  },
  {
   "cell_type": "code",
   "execution_count": 11,
   "metadata": {},
   "outputs": [],
   "source": [
    "manual_coords={\n",
    "    'SDSS_CE_J198.070190+00.996231': ['13:12:16.85', '+00:59:46.43'],\n",
    "    'HCG_037': ['09:13:35.6', '+30:00:51'],\n",
    "    '_HB89__1821+643': ['18:21:41.890', '64:19:01.05'],\n",
    "    'NGC_0777': ['02:00:14.9065707744', '+31:25:45.850721628'],\n",
    "    'NGC_0766': ['01:58:41.995', '+08:20:48.26'],\n",
    "    'NGC_3209': ['10:20:38.4176527296', '+25:30:18.241185348'],\n",
    "    'SPT-CL_J0232-4421': ['02:32:18.69', '-44:20:41.5'],\n",
    "    'SDSS_J015021.27-100530.5_GROUP': ['01:50:21.2809120128', '-10:05:30.291293652']\n",
    "}"
   ]
  },
  {
   "cell_type": "code",
   "execution_count": 12,
   "metadata": {},
   "outputs": [],
   "source": [
    "table = np.zeros((len(full_profile_names),2),dtype=float)"
   ]
  },
  {
   "cell_type": "code",
   "execution_count": 14,
   "metadata": {},
   "outputs": [],
   "source": [
    "for i in range(len(full_profile_names)):\n",
    "    name=full_profile_names[i]\n",
    "    if name in profile_names:\n",
    "        coords = SkyCoord(ra=profile_RAs[name], dec=profile_DECs[name], unit=(units.hourangle, units.degree))\n",
    "    else:\n",
    "        coords = SkyCoord(ra=manual_coords[name][0], dec=manual_coords[name][1], unit=(units.hourangle, units.degree))\n",
    "    ra,dec=coords.to_string(precision=5).split(\" \")\n",
    "    table[i,0]=ra\n",
    "    table[i,1]=dec"
   ]
  },
  {
   "cell_type": "code",
   "execution_count": 15,
   "metadata": {},
   "outputs": [],
   "source": [
    "df = pd.DataFrame(table)\n",
    "df.to_csv(\"profile_coords.csv\",index=None)"
   ]
  }
 ],
 "metadata": {
  "kernelspec": {
   "display_name": "base",
   "language": "python",
   "name": "python3"
  },
  "language_info": {
   "codemirror_mode": {
    "name": "ipython",
    "version": 3
   },
   "file_extension": ".py",
   "mimetype": "text/x-python",
   "name": "python",
   "nbconvert_exporter": "python",
   "pygments_lexer": "ipython3",
   "version": "3.9.13"
  },
  "orig_nbformat": 4
 },
 "nbformat": 4,
 "nbformat_minor": 2
}
