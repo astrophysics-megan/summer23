{
 "cells": [
  {
   "cell_type": "code",
   "execution_count": 3,
   "metadata": {},
   "outputs": [],
   "source": [
    "import os\n",
    "import numpy as np\n",
    "\n",
    "#to add a figure to the figure set: \n",
    "#add the file path below by adding the prefix (everything that appears in the file path before the cluster's name) in the first list\n",
    "#add the suffix (everything that appears after the cluster's name) in the second list\n",
    "#add a title for the sub in the third list\n",
    "#note: strings must have a double \\\\ in order to be interpreted as \\\n",
    "pathPrefixes = ['figuresets\\\\entropy_profiles\\\\','figuresets\\\\radial_profs_and_plots\\\\individual_radial_T_plots\\\\single_T_plot_','figuresets\\\\radial_profs_and_plots\\\\individual_radial_Z_plots\\\\single_Z_plot_']\n",
    "pathSuffixes = ['_K_profile_fit.png','.png','.png']\n",
    "plotTitles = ['Entropy', 'Temperature', 'Metallicity']\n",
    "\n",
    "\n",
    "ACCEPT2clusters = np.loadtxt(r\"../data/global_properties.csv\",delimiter=',',dtype=str)\n",
    "clusterNames = ACCEPT2clusters.T[0][3:]\n",
    "\n",
    "lines = [] #is used to store each line of text so it can be written to a txt file at the end\n",
    "figurenumber = 1\n",
    "\n",
    "for name in clusterNames:\n",
    "    realPaths = [] #stores file paths that exist for the cluster\n",
    "    plotTypes = [] #stores the type of plot that is saved\n",
    "\n",
    "    for i in range(len(pathPrefixes)): #loops through all file paths, tests if they exists, and adds them to a list if they do\n",
    "        testPath = pathPrefixes[i]+name+pathSuffixes[i]\n",
    "        if os.path.exists(testPath):\n",
    "            realPaths.append(testPath)\n",
    "            plotTypes.append(plotTitles[i])\n",
    "\n",
    "    if realPaths: #checks if any plots exist for the cluster\n",
    "        lines.append(\"\\\\figsetstart\")\n",
    "        lines.append(\"\\\\figsetnum{\"+str(figurenumber)+\"}\")\n",
    "        lines.append(\"\\\\figsettitle{\"+name+\"}\")\n",
    "        for i in range(len(realPaths)): #adds a figure for each one in the set\n",
    "            lines.append(\"\\\\figsetgrpstart\")\n",
    "            lines.append(\"\\\\figsetgrpnum{\"+str(figurenumber)+\".\"+str(i+1)+\"}\")\n",
    "            lines.append(\"\\\\figsetgrptitle{\"+plotTypes[i]+\"}\")\n",
    "            lines.append(\"\\\\figsetplot{\"+realPaths[i]+\"}\")\n",
    "            lines.append(\"\\\\figsetgrnote{}\")\n",
    "            lines.append(\"\\\\figsetgrpend\")\n",
    "        lines.append(\"\\\\figsetend\")\n",
    "        lines.append(\"\")\n",
    "        figurenumber+=1"
   ]
  },
  {
   "cell_type": "code",
   "execution_count": 4,
   "metadata": {},
   "outputs": [],
   "source": [
    "# open file in write mode\n",
    "with open(r'figureset.txt', 'w') as fp:\n",
    "    for item in lines:\n",
    "        # write each item on a new line\n",
    "        fp.write(\"%s\\n\" % item)"
   ]
  }
 ],
 "metadata": {
  "kernelspec": {
   "display_name": "base",
   "language": "python",
   "name": "python3"
  },
  "language_info": {
   "codemirror_mode": {
    "name": "ipython",
    "version": 3
   },
   "file_extension": ".py",
   "mimetype": "text/x-python",
   "name": "python",
   "nbconvert_exporter": "python",
   "pygments_lexer": "ipython3",
   "version": "3.9.13"
  },
  "orig_nbformat": 4
 },
 "nbformat": 4,
 "nbformat_minor": 2
}
