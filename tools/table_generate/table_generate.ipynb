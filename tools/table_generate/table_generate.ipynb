{
 "cells": [
  {
   "cell_type": "code",
   "execution_count": 1,
   "metadata": {},
   "outputs": [],
   "source": [
    "#inputs\n",
    "input_file = 'globalTestFormat.csv' #the name of the input file\n",
    "\n",
    "mrt_title = 'ACCEPT 2.0: A compilation of X-ray gas properties for clusters of galaxies observed by the Chandra X-ray Observatory' #the title of the paper\n",
    "mrt_authors = 'Donahue M., Baldi A., Frisbie R., Koeppe D., Voit G.M.' #the authors of the paper\n",
    "mrt_table = 'Global Properties' #name of the table"
   ]
  },
  {
   "cell_type": "code",
   "execution_count": 2,
   "metadata": {},
   "outputs": [
    {
     "name": "stderr",
     "output_type": "stream",
     "text": [
      "WARNING: UnitsWarning: 'erg/s/cm2' contains multiple slashes, which is discouraged by the FITS standard [astropy.units.format.generic]\n"
     ]
    }
   ],
   "source": [
    "from astropy.table import Table\n",
    "import pandas as pd\n",
    "import numpy as np\n",
    "import tempfile\n",
    "\n",
    "#important bit about checked units: https://journals.aas.org/mrt-labels/#checked\n",
    "\n",
    "df = pd.read_csv(input_file)\n",
    "unitmap = df.to_dict(orient='records')[0] #create a map for the units of each column\n",
    "descriptionmap = df.to_dict(orient='records')[1] #create a map for the description of each column\n",
    "df = df.drop([0]) #drops the units row\n",
    "df = df.drop([1]) #drops the description row\n",
    "\n",
    "tempcsv = tempfile.NamedTemporaryFile() #writes a temporary csv file to be read by astropy, this fixes an issue where directly feeding astropy a pandas df doesn't correctly assign datatypes\n",
    "df.to_csv(tempcsv,index=False)\n",
    "\n",
    "csv = Table.read(tempcsv,format='csv',units=unitmap,descriptions=descriptionmap)\n",
    "\n",
    "csv.write(input_file[:-4]+'.dat', overwrite=True, format='mrt')\n",
    "with open(input_file[:-4]+'.dat', 'r+') as file:\n",
    "    read_content=file.read()\n",
    "    read_content=read_content.replace('Title:', 'Title: ' + mrt_title)\n",
    "    read_content=read_content.replace('Authors:', 'Authors: '+ mrt_authors)\n",
    "    read_content=read_content.replace('Table:', 'Table: '+ mrt_table)\n",
    "    read_content=read_content.replace('table.dat', input_file[:-4]+'.dat')\n",
    "    file.seek(0)\n",
    "    file.write(read_content)\n",
    "\n",
    "pd.read_csv(input_file,header=[0,1],skiprows=[2]).to_html(input_file[:-4]+'.html',index=False)"
   ]
  },
  {
   "cell_type": "code",
   "execution_count": null,
   "metadata": {},
   "outputs": [],
   "source": []
  }
 ],
 "metadata": {
  "kernelspec": {
   "display_name": "base",
   "language": "python",
   "name": "python3"
  },
  "language_info": {
   "codemirror_mode": {
    "name": "ipython",
    "version": 3
   },
   "file_extension": ".py",
   "mimetype": "text/x-python",
   "name": "python",
   "nbconvert_exporter": "python",
   "pygments_lexer": "ipython3",
   "version": "3.9.13"
  },
  "orig_nbformat": 4
 },
 "nbformat": 4,
 "nbformat_minor": 2
}
