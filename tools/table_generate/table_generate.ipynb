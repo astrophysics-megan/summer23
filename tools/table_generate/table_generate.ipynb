{
 "cells": [
  {
   "cell_type": "code",
   "execution_count": 1,
   "metadata": {},
   "outputs": [],
   "source": [
    "#inputs\n",
    "input_file = 'globalTestFormat.csv' #the name of the input file\n",
    "\n",
    "mrt_title = 'ACCEPT 2.0: A compilation of X-ray gas properties for clusters of galaxies observed by the Chandra X-ray Observatory' #the title of the paper\n",
    "mrt_authors = 'Donahue M., Baldi A., Frisbie R., Koeppe D., Voit G.M.' #the authors of the paper\n",
    "mrt_table = 'Global Properties' #name of the table\n",
    "\n",
    "\n",
    "RA_column = '8' #MUST BE DECIMAL DEGREES\n",
    "DEC_column = '9' #MUST BE DECIMAL DEGREES"
   ]
  },
  {
   "cell_type": "code",
   "execution_count": 3,
   "metadata": {},
   "outputs": [
    {
     "name": "stderr",
     "output_type": "stream",
     "text": [
      "WARNING: UnitsWarning: 'erg/s/cm2' contains multiple slashes, which is discouraged by the FITS standard [astropy.units.format.generic]\n"
     ]
    }
   ],
   "source": [
    "from astropy.table import Table\n",
    "import pandas as pd\n",
    "import numpy as np\n",
    "import tempfile\n",
    "import os\n",
    "import shutil\n",
    "\n",
    "#important bit about checked units: https://journals.aas.org/mrt-labels/#checked\n",
    "\n",
    "file_loc = r'../data/'+input_file\n",
    "raw_name = input_file[:-4]\n",
    "\n",
    "if not os.path.exists(r'table_generate_output/'+raw_name):\n",
    "    os.makedirs(r'table_generate_output/'+raw_name)\n",
    "output_path = r'table_generate_output/'+raw_name+r'/'\n",
    "\n",
    "df = pd.read_csv(file_loc)\n",
    "unitmap = df.to_dict(orient='records')[0] #create a map for the units of each column\n",
    "descriptionmap = df.to_dict(orient='records')[1] #create a map for the description of each column\n",
    "df = df.drop([0]) #drops the units row\n",
    "df = df.drop([1]) #drops the description row\n",
    "\n",
    "tempcsv = tempfile.NamedTemporaryFile() #writes a temporary csv file to be read by astropy, this fixes an issue where directly feeding astropy a pandas df doesn't correctly assign datatypes\n",
    "df.to_csv(tempcsv,index=False)\n",
    "\n",
    "csv = Table.read(tempcsv,format='csv',units=unitmap,descriptions=descriptionmap) #read the csv into an astropy table\n",
    "\n",
    "csv.write(output_path+raw_name+'.dat', overwrite=True, format='mrt') #uses astropy to write and mrt lacking metadata\n",
    "\n",
    "mrt_replaceables = { #used to replace empty metadata in the mrt\n",
    "    'Title:': 'Title: ' + mrt_title,\n",
    "    'Authors:': 'Authors: '+ mrt_authors,\n",
    "    'Table:': 'Table: '+ mrt_table,\n",
    "    'table.dat': raw_name+'.dat',\n",
    "}\n",
    "\n",
    "with open(output_path+raw_name+'.dat', 'r+') as file: #replaces empty metadata\n",
    "    read_content=file.read()\n",
    "    for key in mrt_replaceables:\n",
    "        read_content=read_content.replace(key, mrt_replaceables[key])\n",
    "    file.seek(0)\n",
    "    file.write(read_content)\n",
    "\n",
    "pd.read_csv(file_loc,header=[0,1],skiprows=[2]).to_html(output_path+raw_name+'.html',index=False) #makes the html table via pandas\n",
    "\n",
    "\n",
    "# consearch creation\n",
    "\n",
    "shutil.copy('search.php', output_path)\n",
    "shutil.copy(file_loc, output_path)\n",
    "\n",
    "consearch_replaceables = { #used to fill in info for conesearch script\n",
    "    'file_name_replace': '\"' + input_file + '\"',\n",
    "    'RA_index_replace': RA_column,\n",
    "    'DEC_index_replace': DEC_column\n",
    "}\n",
    "\n",
    "with open(output_path+'search.php', 'r+') as file: #fills in necessary info for conesearch script\n",
    "    read_content=file.read()\n",
    "    for key in consearch_replaceables:\n",
    "        read_content=read_content.replace(key, consearch_replaceables[key])\n",
    "    file.seek(0)\n",
    "    file.write(read_content)"
   ]
  }
 ],
 "metadata": {
  "kernelspec": {
   "display_name": "base",
   "language": "python",
   "name": "python3"
  },
  "language_info": {
   "codemirror_mode": {
    "name": "ipython",
    "version": 3
   },
   "file_extension": ".py",
   "mimetype": "text/x-python",
   "name": "python",
   "nbconvert_exporter": "python",
   "pygments_lexer": "ipython3",
   "version": "3.9.13"
  },
  "orig_nbformat": 4
 },
 "nbformat": 4,
 "nbformat_minor": 2
}
