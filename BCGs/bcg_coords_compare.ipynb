{
 "cells": [
  {
   "cell_type": "code",
   "execution_count": 29,
   "metadata": {},
   "outputs": [],
   "source": [
    "import numpy as np\n",
    "import pandas as pd\n",
    "from astropy.coordinates import angular_separation\n",
    "\n",
    "BCGs = pd.read_excel('full_BCG_list.xlsx')\n",
    "BCGs = BCGs.to_numpy(dtype=str)\n",
    "BCGsClusterNames = BCGs.T[0]\n",
    "BCGsClusterNames = np.char.strip(BCGsClusterNames)\n",
    "\n",
    "for i, val in enumerate(BCGs.T[5]): #some of the entries have things like \"x update: y\", these loops take only the y\n",
    "    BCGs.T[5][i] = val.split()[-1]\n",
    "BCG_RAs = BCGs.T[5]\n",
    "\n",
    "for i, val in enumerate(BCGs.T[6]):\n",
    "    BCGs.T[6][i] = val.split()[-1]\n",
    "BCG_DECs = BCGs.T[6]\n",
    "\n",
    "for i, val in enumerate(BCGs.T[7]):\n",
    "    BCGs.T[7][i] = val.split()[-1]\n",
    "BCG_Zs = BCGs.T[7]\n",
    "\n",
    "#get global props data\n",
    "globalClusters = np.loadtxt(r\"../tools/data/globalTestFormat.csv\",delimiter=',',dtype=str)\n",
    "globalNames = globalClusters.T[0][3:]\n",
    "globalNames = np.char.strip(globalNames)\n",
    "globalRAs = dict(zip(globalNames,globalClusters.T[8][3:]))\n",
    "globalDECs = dict(zip(globalNames,globalClusters.T[9][3:]))\n",
    "globalZs = dict(zip(globalNames,globalClusters.T[10][3:]))\n",
    "\n",
    "#get profile K0\n",
    "profiles = np.loadtxt(r\"../tools/data/ACCEPT2_K0_and_z.csv\",delimiter=',',dtype=str)\n",
    "profilesNames = profiles.T[1][1:]\n",
    "profilesNames = np.char.strip(profilesNames)\n",
    "profileK0s = dict(zip(profilesNames,profiles.T[2][1:]))"
   ]
  },
  {
   "cell_type": "code",
   "execution_count": 30,
   "metadata": {},
   "outputs": [],
   "source": [
    "#initialize empty table\n",
    "table = np.zeros((len(BCGsClusterNames),5),dtype=object)\n",
    "\n",
    "#set first column to all accept2.0 names\n",
    "table[:,0]=BCGsClusterNames"
   ]
  },
  {
   "cell_type": "code",
   "execution_count": 34,
   "metadata": {},
   "outputs": [],
   "source": [
    "for i, name in enumerate(BCGsClusterNames): #goes through each cluster and compares the coords\n",
    "    coords = np.radians((float(globalRAs[name]),float(globalDECs[name]),float(BCG_RAs[i]),float(BCG_DECs[i]))) #converts coords to radians\n",
    "    separation = angular_separation(*coords) #uses astropy to calculate\n",
    "    table[i,1] = np.degrees(separation)*3600 #converts separation to arcseconds\n",
    "    table[i,2] = np.abs(float(BCG_Zs[i])-float(globalZs[name]))/float(globalZs[name])\n",
    "    table[i,3] = np.abs(float(BCG_Zs[i])-float(globalZs[name]))/(1+float(globalZs[name]))\n",
    "    try: table[i,4] = float(profileK0s[name]) #sees if there is a K0\n",
    "    except: table[i,4] = np.nan"
   ]
  },
  {
   "cell_type": "code",
   "execution_count": 40,
   "metadata": {},
   "outputs": [],
   "source": [
    "df = pd.DataFrame(table,columns=['Cluster Name', 'Angular Separation (arcseconds)', 'Z Separation', 'Z Separation over +1', \"K0\"])\n",
    "df = df.sort_values('Angular Separation (arcseconds)',ascending=False)\n",
    "df.to_csv(\"bcg_coords_compare.csv\",index=None)"
   ]
  }
 ],
 "metadata": {
  "kernelspec": {
   "display_name": "base",
   "language": "python",
   "name": "python3"
  },
  "language_info": {
   "codemirror_mode": {
    "name": "ipython",
    "version": 3
   },
   "file_extension": ".py",
   "mimetype": "text/x-python",
   "name": "python",
   "nbconvert_exporter": "python",
   "pygments_lexer": "ipython3",
   "version": "3.9.13"
  },
  "orig_nbformat": 4
 },
 "nbformat": 4,
 "nbformat_minor": 2
}
