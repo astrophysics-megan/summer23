{
 "cells": [
  {
   "cell_type": "code",
   "execution_count": 5,
   "metadata": {},
   "outputs": [],
   "source": [
    "import numpy as np\n",
    "import pandas as pd\n",
    "from astropy.coordinates import angular_separation\n",
    "from astropy import units as u\n",
    "from astropy.cosmology import FlatLambdaCDM\n",
    "cosmo = FlatLambdaCDM(H0=71, Om0=0.27) #initialize a cosmology class with H0=71 and Om0=0.27\n",
    "\n",
    "BCGs = pd.read_excel(r'../full_BCG_list.xlsx')\n",
    "BCGs = BCGs.to_numpy(dtype=str)\n",
    "BCGsClusterNames = BCGs.T[0]\n",
    "BCGsClusterNames = np.char.strip(BCGsClusterNames)\n",
    "\n",
    "BCG_RAs = BCGs.T[5]\n",
    "BCG_DECs = BCGs.T[6]\n",
    "BCG_Zs = BCGs.T[7]\n",
    "\n",
    "#get global props data\n",
    "globalClusters = np.loadtxt(r\"../../tools/data/global_properties.csv\",delimiter=',',dtype=str)\n",
    "globalNames = globalClusters.T[0][3:]\n",
    "globalNames = np.char.strip(globalNames)\n",
    "globalRAs = dict(zip(globalNames,globalClusters.T[8][3:]))\n",
    "globalDECs = dict(zip(globalNames,globalClusters.T[9][3:]))\n",
    "globalZs = dict(zip(globalNames,globalClusters.T[10][3:]))\n",
    "\n",
    "#get profile K0\n",
    "profiles = np.loadtxt(r\"../../tools/data/ACCEPT2_K0_and_z.csv\",delimiter=',',dtype=str)\n",
    "profilesNames = profiles.T[1][1:]\n",
    "profilesNames = np.char.strip(profilesNames)\n",
    "profileK0s = dict(zip(profilesNames,profiles.T[2][1:]))\n",
    "profileK0errs = dict(zip(profilesNames,profiles.T[3][1:]))"
   ]
  },
  {
   "cell_type": "code",
   "execution_count": 6,
   "metadata": {},
   "outputs": [],
   "source": [
    "#initialize empty table\n",
    "table = np.zeros((len(BCGsClusterNames),9),dtype=object)\n",
    "\n",
    "#set first column to all accept2.0 names\n",
    "table[:,0]=BCGsClusterNames"
   ]
  },
  {
   "cell_type": "code",
   "execution_count": 7,
   "metadata": {},
   "outputs": [],
   "source": [
    "for i, name in enumerate(BCGsClusterNames): #goes through each cluster and compares the coords\n",
    "    coords = np.radians((float(globalRAs[name]),float(globalDECs[name]),float(BCG_RAs[i]),float(BCG_DECs[i]))) #converts coords to radians\n",
    "    separation = angular_separation(*coords) #uses astropy to calculate\n",
    "    table[i,1] = np.degrees(separation)*3600 #converts separation to arcseconds\n",
    "    table[i,2] = (cosmo.kpc_proper_per_arcmin(float(globalZs[name]))*u.arcmin/(60*u.arcsec)).value\n",
    "    table[i,3] = table[i,2]*table[i,1]\n",
    "    table[i,4] = float(BCG_Zs[i])\n",
    "    table[i,5] = np.abs(float(BCG_Zs[i])-float(globalZs[name]))/float(globalZs[name])\n",
    "    table[i,6] = np.abs(float(BCG_Zs[i])-float(globalZs[name]))/(1+float(globalZs[name]))\n",
    "    try: table[i,7] = float(profileK0s[name]); table[i,8] = float(profileK0errs[name]) #sees if there is a K0\n",
    "    except: table[i,7] = np.nan; table[i,8] = np.nan"
   ]
  },
  {
   "cell_type": "code",
   "execution_count": 8,
   "metadata": {},
   "outputs": [],
   "source": [
    "df = pd.DataFrame(table,columns=['Cluster Name', 'Angular Separation (arcseconds)', 'kpc/arcsec Scale', 'kpc Separation', 'BCG Z', 'Z Separation', 'Z Separation over +1', \"K0 (keV cm2)\", \"K0err (keV cm2)\"])\n",
    "df = df.sort_values('kpc Separation',ascending=False)\n",
    "df.to_csv(\"bcg_coords_compare.csv\",index=None)"
   ]
  }
 ],
 "metadata": {
  "kernelspec": {
   "display_name": "base",
   "language": "python",
   "name": "python3"
  },
  "language_info": {
   "codemirror_mode": {
    "name": "ipython",
    "version": 3
   },
   "file_extension": ".py",
   "mimetype": "text/x-python",
   "name": "python",
   "nbconvert_exporter": "python",
   "pygments_lexer": "ipython3",
   "version": "3.9.13"
  },
  "orig_nbformat": 4
 },
 "nbformat": 4,
 "nbformat_minor": 2
}
